{
 "cells": [
  {
   "cell_type": "code",
   "execution_count": 1,
   "metadata": {},
   "outputs": [],
   "source": [
    "import sys\n",
    "import os\n",
    "\n",
    "# 假设你的库位于当前工作目录下的\"my_local_lib\"文件夹内\n",
    "lib_path = os.path.abspath('/home/userroot/dev/zms/')\n",
    "if lib_path not in sys.path:\n",
    "    sys.path.append(lib_path)"
   ]
  },
  {
   "cell_type": "code",
   "execution_count": 2,
   "metadata": {},
   "outputs": [],
   "source": [
    "from datautils import *"
   ]
  },
  {
   "cell_type": "code",
   "execution_count": 3,
   "metadata": {},
   "outputs": [],
   "source": [
    "import argparse\n",
    "\n",
    "parser = argparse.ArgumentParser()\n",
    "# Dataset and dataloader\n",
    "parser.add_argument('--dset_pretrain', type=str, default='etth1', help='dataset name')\n",
    "parser.add_argument('--context_points', type=int, default=512, help='sequence length')\n",
    "parser.add_argument('--target_points', type=int, default=96, help='forecast horizon')\n",
    "parser.add_argument('--batch_size', type=int, default=64, help='batch size')\n",
    "parser.add_argument('--num_workers', type=int, default=0, help='number of workers for DataLoader')\n",
    "parser.add_argument('--scaler', type=str, default='standard', help='scale the input data')\n",
    "parser.add_argument('--features', type=str, default='M', help='for multivariate model or univariate model')\n",
    "# Patch\n",
    "parser.add_argument('--patch_len', type=int, default=12, help='patch length')\n",
    "parser.add_argument('--stride', type=int, default=12, help='stride between patch')\n",
    "# RevIN\n",
    "parser.add_argument('--revin', type=int, default=1, help='reversible instance normalization')\n",
    "# Model args\n",
    "parser.add_argument('--n_layers', type=int, default=3, help='number of Transformer layers')\n",
    "parser.add_argument('--n_heads', type=int, default=16, help='number of Transformer heads')\n",
    "parser.add_argument('--d_model', type=int, default=128, help='Transformer d_model')\n",
    "parser.add_argument('--d_ff', type=int, default=512, help='Tranformer MLP dimension')\n",
    "parser.add_argument('--dropout', type=float, default=0.2, help='Transformer dropout')\n",
    "parser.add_argument('--head_dropout', type=float, default=0.2, help='head dropout')\n",
    "# Pretrain mask\n",
    "parser.add_argument('--mask_ratio', type=float, default=0.4, help='masking ratio for the input')\n",
    "# Optimization args\n",
    "parser.add_argument('--n_epochs_pretrain', type=int, default=10, help='number of pre-training epochs')\n",
    "parser.add_argument('--lr', type=float, default=1e-4, help='learning rate')\n",
    "# model id to keep track of the number of models saved\n",
    "parser.add_argument('--pretrained_model_id', type=int, default=1, help='id of the saved pretrained model')\n",
    "parser.add_argument('--model_type', type=str, default='based_model', help='for multivariate model or univariate model')\n",
    "\n",
    "\n",
    "args = parser.parse_args()"
   ]
  },
  {
   "cell_type": "code",
   "execution_count": 4,
   "metadata": {},
   "outputs": [
    {
     "data": {
      "text/plain": [
       "Namespace(dset_pretrain='etth1', context_points=512, target_points=96, batch_size=64, num_workers=0, scaler='standard', features='/home/userroot/.local/share/jupyter/runtime/kernel-v2-3339444gLPFZD9uME5S.json', patch_len=12, stride=12, revin=1, n_layers=3, n_heads=16, d_model=128, d_ff=512, dropout=0.2, head_dropout=0.2, mask_ratio=0.4, n_epochs_pretrain=10, lr=0.0001, pretrained_model_id=1, model_type='based_model')"
      ]
     },
     "execution_count": 4,
     "metadata": {},
     "output_type": "execute_result"
    }
   ],
   "source": [
    "args"
   ]
  },
  {
   "cell_type": "code",
   "execution_count": 5,
   "metadata": {},
   "outputs": [],
   "source": [
    "args.features = 'M'"
   ]
  },
  {
   "cell_type": "code",
   "execution_count": 6,
   "metadata": {},
   "outputs": [],
   "source": [
    "args.dset = 'stock'\n",
    "args.context_points = 14\n",
    "args.target_points = 7"
   ]
  },
  {
   "cell_type": "code",
   "execution_count": 7,
   "metadata": {},
   "outputs": [
    {
     "data": {
      "text/plain": [
       "Namespace(dset_pretrain='etth1', context_points=14, target_points=7, batch_size=64, num_workers=0, scaler='standard', features='M', patch_len=12, stride=12, revin=1, n_layers=3, n_heads=16, d_model=128, d_ff=512, dropout=0.2, head_dropout=0.2, mask_ratio=0.4, n_epochs_pretrain=10, lr=0.0001, pretrained_model_id=1, model_type='based_model', dset='stock')"
      ]
     },
     "execution_count": 7,
     "metadata": {},
     "output_type": "execute_result"
    }
   ],
   "source": [
    "args"
   ]
  },
  {
   "cell_type": "code",
   "execution_count": 8,
   "metadata": {},
   "outputs": [],
   "source": [
    "dls = get_dls(args)   "
   ]
  },
  {
   "cell_type": "code",
   "execution_count": 9,
   "metadata": {},
   "outputs": [
    {
     "data": {
      "text/plain": [
       "<torch.utils.data.dataloader.DataLoader at 0x7fb2da280700>"
      ]
     },
     "execution_count": 9,
     "metadata": {},
     "output_type": "execute_result"
    }
   ],
   "source": [
    "dls.test\n"
   ]
  },
  {
   "cell_type": "code",
   "execution_count": 23,
   "metadata": {},
   "outputs": [],
   "source": [
    "cnt = 0"
   ]
  },
  {
   "cell_type": "code",
   "execution_count": 26,
   "metadata": {},
   "outputs": [
    {
     "name": "stdout",
     "output_type": "stream",
     "text": [
      "0\n"
     ]
    }
   ],
   "source": [
    "\n",
    "for num, batch in enumerate(dls.test): \n",
    "    cnt = cnt + batch[0].shape[0]\n",
    "    print(num)\n",
    "    #print(len(batch)) #, batch)"
   ]
  },
  {
   "cell_type": "code",
   "execution_count": 27,
   "metadata": {},
   "outputs": [
    {
     "data": {
      "text/plain": [
       "220"
      ]
     },
     "execution_count": 27,
     "metadata": {},
     "output_type": "execute_result"
    }
   ],
   "source": [
    "cnt"
   ]
  }
 ],
 "metadata": {
  "kernelspec": {
   "display_name": "rag",
   "language": "python",
   "name": "python3"
  },
  "language_info": {
   "codemirror_mode": {
    "name": "ipython",
    "version": 3
   },
   "file_extension": ".py",
   "mimetype": "text/x-python",
   "name": "python",
   "nbconvert_exporter": "python",
   "pygments_lexer": "ipython3",
   "version": "3.10.13"
  }
 },
 "nbformat": 4,
 "nbformat_minor": 2
}
